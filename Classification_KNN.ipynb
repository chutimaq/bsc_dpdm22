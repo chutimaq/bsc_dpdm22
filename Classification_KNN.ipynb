{
  "nbformat": 4,
  "nbformat_minor": 0,
  "metadata": {
    "colab": {
      "provenance": [],
      "toc_visible": true,
      "authorship_tag": "ABX9TyNycpX45wjS95A9YEfQpQCR",
      "include_colab_link": true
    },
    "kernelspec": {
      "name": "python3",
      "display_name": "Python 3"
    },
    "language_info": {
      "name": "python"
    }
  },
  "cells": [
    {
      "cell_type": "markdown",
      "metadata": {
        "id": "view-in-github",
        "colab_type": "text"
      },
      "source": [
        "<a href=\"https://colab.research.google.com/github/chutimaq/bsc_dpdm22/blob/main/Classification_KNN.ipynb\" target=\"_parent\"><img src=\"https://colab.research.google.com/assets/colab-badge.svg\" alt=\"Open In Colab\"/></a>"
      ]
    },
    {
      "cell_type": "code",
      "execution_count": 1,
      "metadata": {
        "id": "50H7IYCgVC9V"
      },
      "outputs": [],
      "source": [
        "from sklearn.datasets import load_digits\n",
        "digits = load_digits()\n",
        "\n",
        "import matplotlib.pyplot as plt"
      ]
    },
    {
      "cell_type": "code",
      "source": [
        "digits"
      ],
      "metadata": {
        "colab": {
          "base_uri": "https://localhost:8080/"
        },
        "id": "CPwBXIhZWH0X",
        "outputId": "ee98a84e-c7b9-466b-eaab-7a5abc5a9bc5"
      },
      "execution_count": 2,
      "outputs": [
        {
          "output_type": "execute_result",
          "data": {
            "text/plain": [
              "{'data': array([[ 0.,  0.,  5., ...,  0.,  0.,  0.],\n",
              "        [ 0.,  0.,  0., ..., 10.,  0.,  0.],\n",
              "        [ 0.,  0.,  0., ..., 16.,  9.,  0.],\n",
              "        ...,\n",
              "        [ 0.,  0.,  1., ...,  6.,  0.,  0.],\n",
              "        [ 0.,  0.,  2., ..., 12.,  0.,  0.],\n",
              "        [ 0.,  0., 10., ..., 12.,  1.,  0.]]),\n",
              " 'target': array([0, 1, 2, ..., 8, 9, 8]),\n",
              " 'frame': None,\n",
              " 'feature_names': ['pixel_0_0',\n",
              "  'pixel_0_1',\n",
              "  'pixel_0_2',\n",
              "  'pixel_0_3',\n",
              "  'pixel_0_4',\n",
              "  'pixel_0_5',\n",
              "  'pixel_0_6',\n",
              "  'pixel_0_7',\n",
              "  'pixel_1_0',\n",
              "  'pixel_1_1',\n",
              "  'pixel_1_2',\n",
              "  'pixel_1_3',\n",
              "  'pixel_1_4',\n",
              "  'pixel_1_5',\n",
              "  'pixel_1_6',\n",
              "  'pixel_1_7',\n",
              "  'pixel_2_0',\n",
              "  'pixel_2_1',\n",
              "  'pixel_2_2',\n",
              "  'pixel_2_3',\n",
              "  'pixel_2_4',\n",
              "  'pixel_2_5',\n",
              "  'pixel_2_6',\n",
              "  'pixel_2_7',\n",
              "  'pixel_3_0',\n",
              "  'pixel_3_1',\n",
              "  'pixel_3_2',\n",
              "  'pixel_3_3',\n",
              "  'pixel_3_4',\n",
              "  'pixel_3_5',\n",
              "  'pixel_3_6',\n",
              "  'pixel_3_7',\n",
              "  'pixel_4_0',\n",
              "  'pixel_4_1',\n",
              "  'pixel_4_2',\n",
              "  'pixel_4_3',\n",
              "  'pixel_4_4',\n",
              "  'pixel_4_5',\n",
              "  'pixel_4_6',\n",
              "  'pixel_4_7',\n",
              "  'pixel_5_0',\n",
              "  'pixel_5_1',\n",
              "  'pixel_5_2',\n",
              "  'pixel_5_3',\n",
              "  'pixel_5_4',\n",
              "  'pixel_5_5',\n",
              "  'pixel_5_6',\n",
              "  'pixel_5_7',\n",
              "  'pixel_6_0',\n",
              "  'pixel_6_1',\n",
              "  'pixel_6_2',\n",
              "  'pixel_6_3',\n",
              "  'pixel_6_4',\n",
              "  'pixel_6_5',\n",
              "  'pixel_6_6',\n",
              "  'pixel_6_7',\n",
              "  'pixel_7_0',\n",
              "  'pixel_7_1',\n",
              "  'pixel_7_2',\n",
              "  'pixel_7_3',\n",
              "  'pixel_7_4',\n",
              "  'pixel_7_5',\n",
              "  'pixel_7_6',\n",
              "  'pixel_7_7'],\n",
              " 'target_names': array([0, 1, 2, 3, 4, 5, 6, 7, 8, 9]),\n",
              " 'images': array([[[ 0.,  0.,  5., ...,  1.,  0.,  0.],\n",
              "         [ 0.,  0., 13., ..., 15.,  5.,  0.],\n",
              "         [ 0.,  3., 15., ..., 11.,  8.,  0.],\n",
              "         ...,\n",
              "         [ 0.,  4., 11., ..., 12.,  7.,  0.],\n",
              "         [ 0.,  2., 14., ..., 12.,  0.,  0.],\n",
              "         [ 0.,  0.,  6., ...,  0.,  0.,  0.]],\n",
              " \n",
              "        [[ 0.,  0.,  0., ...,  5.,  0.,  0.],\n",
              "         [ 0.,  0.,  0., ...,  9.,  0.,  0.],\n",
              "         [ 0.,  0.,  3., ...,  6.,  0.,  0.],\n",
              "         ...,\n",
              "         [ 0.,  0.,  1., ...,  6.,  0.,  0.],\n",
              "         [ 0.,  0.,  1., ...,  6.,  0.,  0.],\n",
              "         [ 0.,  0.,  0., ..., 10.,  0.,  0.]],\n",
              " \n",
              "        [[ 0.,  0.,  0., ..., 12.,  0.,  0.],\n",
              "         [ 0.,  0.,  3., ..., 14.,  0.,  0.],\n",
              "         [ 0.,  0.,  8., ..., 16.,  0.,  0.],\n",
              "         ...,\n",
              "         [ 0.,  9., 16., ...,  0.,  0.,  0.],\n",
              "         [ 0.,  3., 13., ..., 11.,  5.,  0.],\n",
              "         [ 0.,  0.,  0., ..., 16.,  9.,  0.]],\n",
              " \n",
              "        ...,\n",
              " \n",
              "        [[ 0.,  0.,  1., ...,  1.,  0.,  0.],\n",
              "         [ 0.,  0., 13., ...,  2.,  1.,  0.],\n",
              "         [ 0.,  0., 16., ..., 16.,  5.,  0.],\n",
              "         ...,\n",
              "         [ 0.,  0., 16., ..., 15.,  0.,  0.],\n",
              "         [ 0.,  0., 15., ..., 16.,  0.,  0.],\n",
              "         [ 0.,  0.,  2., ...,  6.,  0.,  0.]],\n",
              " \n",
              "        [[ 0.,  0.,  2., ...,  0.,  0.,  0.],\n",
              "         [ 0.,  0., 14., ..., 15.,  1.,  0.],\n",
              "         [ 0.,  4., 16., ..., 16.,  7.,  0.],\n",
              "         ...,\n",
              "         [ 0.,  0.,  0., ..., 16.,  2.,  0.],\n",
              "         [ 0.,  0.,  4., ..., 16.,  2.,  0.],\n",
              "         [ 0.,  0.,  5., ..., 12.,  0.,  0.]],\n",
              " \n",
              "        [[ 0.,  0., 10., ...,  1.,  0.,  0.],\n",
              "         [ 0.,  2., 16., ...,  1.,  0.,  0.],\n",
              "         [ 0.,  0., 15., ..., 15.,  0.,  0.],\n",
              "         ...,\n",
              "         [ 0.,  4., 16., ..., 16.,  6.,  0.],\n",
              "         [ 0.,  8., 16., ..., 16.,  8.,  0.],\n",
              "         [ 0.,  1.,  8., ..., 12.,  1.,  0.]]]),\n",
              " 'DESCR': \".. _digits_dataset:\\n\\nOptical recognition of handwritten digits dataset\\n--------------------------------------------------\\n\\n**Data Set Characteristics:**\\n\\n    :Number of Instances: 1797\\n    :Number of Attributes: 64\\n    :Attribute Information: 8x8 image of integer pixels in the range 0..16.\\n    :Missing Attribute Values: None\\n    :Creator: E. Alpaydin (alpaydin '@' boun.edu.tr)\\n    :Date: July; 1998\\n\\nThis is a copy of the test set of the UCI ML hand-written digits datasets\\nhttps://archive.ics.uci.edu/ml/datasets/Optical+Recognition+of+Handwritten+Digits\\n\\nThe data set contains images of hand-written digits: 10 classes where\\neach class refers to a digit.\\n\\nPreprocessing programs made available by NIST were used to extract\\nnormalized bitmaps of handwritten digits from a preprinted form. From a\\ntotal of 43 people, 30 contributed to the training set and different 13\\nto the test set. 32x32 bitmaps are divided into nonoverlapping blocks of\\n4x4 and the number of on pixels are counted in each block. This generates\\nan input matrix of 8x8 where each element is an integer in the range\\n0..16. This reduces dimensionality and gives invariance to small\\ndistortions.\\n\\nFor info on NIST preprocessing routines, see M. D. Garris, J. L. Blue, G.\\nT. Candela, D. L. Dimmick, J. Geist, P. J. Grother, S. A. Janet, and C.\\nL. Wilson, NIST Form-Based Handprint Recognition System, NISTIR 5469,\\n1994.\\n\\n.. topic:: References\\n\\n  - C. Kaynak (1995) Methods of Combining Multiple Classifiers and Their\\n    Applications to Handwritten Digit Recognition, MSc Thesis, Institute of\\n    Graduate Studies in Science and Engineering, Bogazici University.\\n  - E. Alpaydin, C. Kaynak (1998) Cascading Classifiers, Kybernetika.\\n  - Ken Tang and Ponnuthurai N. Suganthan and Xi Yao and A. Kai Qin.\\n    Linear dimensionalityreduction using relevance weighted LDA. School of\\n    Electrical and Electronic Engineering Nanyang Technological University.\\n    2005.\\n  - Claudio Gentile. A New Approximate Maximal Margin Classification\\n    Algorithm. NIPS. 2000.\\n\"}"
            ]
          },
          "metadata": {},
          "execution_count": 2
        }
      ]
    },
    {
      "cell_type": "code",
      "source": [
        "ind = 28\n",
        "plt.gray()\n",
        "plt.matshow(digits.images[ind])\n",
        "print(digits.target[ind])"
      ],
      "metadata": {
        "colab": {
          "base_uri": "https://localhost:8080/",
          "height": 310
        },
        "id": "z5mJwg-xWNOb",
        "outputId": "efdb963d-b519-445e-d438-9c75f0298e3e"
      },
      "execution_count": 3,
      "outputs": [
        {
          "output_type": "stream",
          "name": "stdout",
          "text": [
            "8\n"
          ]
        },
        {
          "output_type": "display_data",
          "data": {
            "text/plain": [
              "<Figure size 432x288 with 0 Axes>"
            ]
          },
          "metadata": {}
        },
        {
          "output_type": "display_data",
          "data": {
            "text/plain": [
              "<Figure size 288x288 with 1 Axes>"
            ],
            "image/png": "[encoded data removed]"
          },
          "metadata": {
            "needs_background": "light"
          }
        }
      ]
    },
    {
      "cell_type": "markdown",
      "source": [
        "# Quiz 3 March\n",
        "- แบ่ง data ออกเป็น 80(train) 20(test) โดยใช้ random_state = 9\n",
        "- หา parameters ที่ดีที่สุด (K (1,3,5) Distance_weighted (yes/no) ด้วย 10-cross-validation\n",
        "- test parameters ที่ดีที่สุด กับ test data"
      ],
      "metadata": {
        "id": "bKtdP7BIXPw7"
      }
    },
    {
      "cell_type": "markdown",
      "source": [
        "#### - แบ่ง data ออกเป็น 80(train) 20(test) โดยใช้ random_state = 9"
      ],
      "metadata": {
        "id": "RwHXGZFrZxuI"
      }
    },
    {
      "cell_type": "code",
      "source": [
        "from sklearn.datasets import load_digits\n",
        "from sklearn.model_selection import train_test_split\n",
        "\n",
        "# Load the digits dataset\n",
        "digits = load_digits()\n",
        "\n",
        "# Split the data into training and testing sets\n",
        "X_train, X_test, y_train, y_test = train_test_split(digits.data, digits.target, test_size=0.2, random_state=2)\n",
        "\n",
        "# Print the shapes of the training and testing sets\n",
        "print(\"Training set shape:\", X_train.shape, y_train.shape)\n",
        "print(\"Testing set shape:\", X_test.shape, y_test.shape)"
      ],
      "metadata": {
        "colab": {
          "base_uri": "https://localhost:8080/"
        },
        "id": "lYsA8O5FWiYj",
        "outputId": "d388a486-e91a-4a47-fc0c-59bd65e0ef3f"
      },
      "execution_count": 4,
      "outputs": [
        {
          "output_type": "stream",
          "name": "stdout",
          "text": [
            "Training set shape: (1437, 64) (1437,)\n",
            "Testing set shape: (360, 64) (360,)\n"
          ]
        }
      ]
    },
    {
      "cell_type": "markdown",
      "source": [
        "#### - หา parameters ที่ดีที่สุด (K (1,3,5) Distance_weighted (yes/no) ด้วย 10-cross-validation"
      ],
      "metadata": {
        "id": "cc8eMdM7Z8mW"
      }
    },
    {
      "cell_type": "markdown",
      "source": [
        "##### with distance_weighted"
      ],
      "metadata": {
        "id": "3drGUDu6eHBI"
      }
    },
    {
      "cell_type": "code",
      "source": [
        "from sklearn.datasets import load_digits\n",
        "from sklearn.model_selection import cross_val_score\n",
        "from sklearn.neighbors import KNeighborsClassifier\n",
        "\n",
        "# Load the digits dataset\n",
        "digits = load_digits()\n",
        "\n",
        "# Define the distance-weighted k-NN classifier with different values of k\n",
        "k_values = [1, 3, 5]\n",
        "classifiers = [KNeighborsClassifier(n_neighbors=k, weights='distance') for k in k_values]\n",
        "\n",
        "# Perform 10-fold cross-validation for each classifier\n",
        "for i, clf in enumerate(classifiers):\n",
        "    scores = cross_val_score(clf, digits.data, digits.target, cv=10)\n",
        "    print(\"K =\", k_values[i], \"Accuracy:\", scores.mean())"
      ],
      "metadata": {
        "colab": {
          "base_uri": "https://localhost:8080/"
        },
        "id": "V6dL2EhfcLDv",
        "outputId": "d9c566a6-a3d6-45c8-d91a-9d3436af476a"
      },
      "execution_count": 5,
      "outputs": [
        {
          "output_type": "stream",
          "name": "stdout",
          "text": [
            "K = 1 Accuracy: 0.9749627560521414\n",
            "K = 3 Accuracy: 0.9771849782743638\n",
            "K = 5 Accuracy: 0.9716294227188081\n"
          ]
        }
      ]
    },
    {
      "cell_type": "markdown",
      "source": [
        "##### without distance_weighted"
      ],
      "metadata": {
        "id": "ZMQSB363eOqE"
      }
    },
    {
      "cell_type": "code",
      "source": [
        "from sklearn.neighbors import KNeighborsClassifier\n",
        "\n",
        "# Load the digits dataset\n",
        "digits = load_digits()\n",
        "\n",
        "# Define the k values to use\n",
        "k_values = [1, 3, 5]\n",
        "\n",
        "# Perform 10-fold cross-validation for each value of k\n",
        "for k in k_values:\n",
        "    clf = KNeighborsClassifier(n_neighbors=k, weights='uniform')\n",
        "    scores = cross_val_score(clf, digits.data, digits.target, cv=10)\n",
        "    print(\"K =\", k, \"Accuracy:\", scores.mean())"
      ],
      "metadata": {
        "colab": {
          "base_uri": "https://localhost:8080/"
        },
        "id": "YfAwp-4ZeOJ-",
        "outputId": "87db1d55-d118-41c5-c8cd-1ad8d2b83257"
      },
      "execution_count": 6,
      "outputs": [
        {
          "output_type": "stream",
          "name": "stdout",
          "text": [
            "K = 1 Accuracy: 0.9749627560521414\n",
            "K = 3 Accuracy: 0.9766325263811299\n",
            "K = 5 Accuracy: 0.9716294227188081\n"
          ]
        }
      ]
    },
    {
      "cell_type": "markdown",
      "source": [
        "with dw\n",
        "\n",
        "K = 1 Accuracy: 0.9749627560521414\n",
        "\n",
        "K = 3 Accuracy: 0.9771849782743638\n",
        "\n",
        "K = 5 Accuracy: 0.9716294227188081\n",
        "\n",
        "without dw\n",
        "\n",
        "K = 1 Accuracy: 0.9749627560521414\n",
        "\n",
        "K = 3 Accuracy: 0.9766325263811299\n",
        "\n",
        "K = 5 Accuracy: 0.9716294227188081\n",
        "\n",
        "# เลือก k 3 with distance weighted\n"
      ],
      "metadata": {
        "id": "jopjjub4eXEc"
      }
    },
    {
      "cell_type": "markdown",
      "source": [
        "#### - test parameters ที่ดีที่สุด กับ test data"
      ],
      "metadata": {
        "id": "OIeTfo2PaDTd"
      }
    },
    {
      "cell_type": "code",
      "source": [
        "from sklearn.datasets import load_digits\n",
        "from sklearn.model_selection import train_test_split\n",
        "from sklearn.neighbors import KNeighborsClassifier\n",
        "\n",
        "# Load the digits dataset\n",
        "digits = load_digits()\n",
        "\n",
        "# Split the dataset into training and testing sets\n",
        "X_train, X_test, y_train, y_test = train_test_split(digits.data, digits.target, test_size=0.2, random_state=2)\n",
        "\n",
        "# Fit a k-NN classifier with k=3 and distance-weighted voting\n",
        "clf = KNeighborsClassifier(n_neighbors=3, weights='distance')\n",
        "clf.fit(X_train, y_train)\n",
        "\n",
        "# Predict the class labels of the test set\n",
        "pred = clf.predict(X_test)\n",
        "\n",
        "# Compute the accuracy of the classifier\n",
        "acc = clf.score(X_test, y_test)"
      ],
      "metadata": {
        "id": "gdXrZ-MUZ-K9"
      },
      "execution_count": 7,
      "outputs": []
    },
    {
      "cell_type": "code",
      "source": [
        "acc"
      ],
      "metadata": {
        "colab": {
          "base_uri": "https://localhost:8080/"
        },
        "id": "XcAd9foYehqw",
        "outputId": "c3b057f7-aa6a-497d-db60-3a75b271ce7f"
      },
      "execution_count": 8,
      "outputs": [
        {
          "output_type": "execute_result",
          "data": {
            "text/plain": [
              "0.9833333333333333"
            ]
          },
          "metadata": {},
          "execution_count": 8
        }
      ]
    },
    {
      "cell_type": "markdown",
      "source": [
        "##เฉลย Quiz 3 March"
      ],
      "metadata": {
        "id": "L9lbNCe6JrSF"
      }
    },
    {
      "cell_type": "code",
      "source": [
        "from sklearn.model_selection import train_test_split, cross_val_score"
      ],
      "metadata": {
        "id": "g7lBGkk-JwBF"
      },
      "execution_count": 9,
      "outputs": []
    },
    {
      "cell_type": "code",
      "source": [
        "X_train, X_test, y_train, y_test = train_test_split(digits.data, digits.target, test_size=0.2, random_state=50)\n"
      ],
      "metadata": {
        "id": "PRfJ0pUPJ38C"
      },
      "execution_count": 10,
      "outputs": []
    },
    {
      "cell_type": "code",
      "source": [
        "from sklearn.neighbors import KNeighborsClassifier"
      ],
      "metadata": {
        "id": "zg6UJUv2J4ts"
      },
      "execution_count": 11,
      "outputs": []
    },
    {
      "cell_type": "markdown",
      "source": [
        "### model selection"
      ],
      "metadata": {
        "id": "57NQIHu5J9ak"
      }
    },
    {
      "cell_type": "code",
      "source": [
        "# model 1 (K=1, weighted)\n",
        "knn_distance = KNeighborsClassifier(n_neighbors=1, weights='distance')\n",
        "scores = cross_val_score(knn_distance, X_train, y_train, cv=10)\n",
        "print(\"Mean Cross-Validation Score: K1weighted\", scores.mean())\n",
        "\n",
        "# model 2 (K=3, weighted)\n",
        "knn_distance = KNeighborsClassifier(n_neighbors=3, weights='distance')\n",
        "scores = cross_val_score(knn_distance, X_train, y_train, cv=10)\n",
        "print(\"Mean Cross-Validation Score: K3weighted\", scores.mean())\n",
        "\n",
        "# model 3 (K=5, weighted)\n",
        "knn_distance = KNeighborsClassifier(n_neighbors=5, weights='distance')\n",
        "scores = cross_val_score(knn_distance, X_train, y_train, cv=10)\n",
        "print(\"Mean Cross-Validation Score: K5weighted\", scores.mean())\n",
        "\n",
        "# model 4 (K=1, no weighted)\n",
        "knn_distance = KNeighborsClassifier(n_neighbors=1, weights='uniform')\n",
        "scores = cross_val_score(knn_distance, X_train, y_train, cv=10)\n",
        "print(\"Mean Cross-Validation Score: K1NOweighted\", scores.mean())\n",
        "\n",
        "# model 5 (K=3, no weighted)\n",
        "knn_distance = KNeighborsClassifier(n_neighbors=3, weights='uniform')\n",
        "scores = cross_val_score(knn_distance, X_train, y_train, cv=10)\n",
        "print(\"Mean Cross-Validation Score: K3NOweighted\", scores.mean())\n",
        "\n",
        "# model 6 (K=5, no weighted)\n",
        "knn_distance = KNeighborsClassifier(n_neighbors=5, weights='uniform')\n",
        "scores = cross_val_score(knn_distance, X_train, y_train, cv=10)\n",
        "print(\"Mean Cross-Validation Score: KNOweighted\", scores.mean())"
      ],
      "metadata": {
        "id": "uj25MwhuJ6Vj",
        "outputId": "389b4ffc-47d7-4314-84d4-2c6452416987",
        "colab": {
          "base_uri": "https://localhost:8080/"
        }
      },
      "execution_count": 12,
      "outputs": [
        {
          "output_type": "stream",
          "name": "stdout",
          "text": [
            "Mean Cross-Validation Score: K1weighted 0.9853875291375293\n",
            "Mean Cross-Validation Score: K3weighted 0.9853875291375293\n",
            "Mean Cross-Validation Score: K5weighted 0.9853923853923854\n",
            "Mean Cross-Validation Score: K1NOweighted 0.9853875291375293\n",
            "Mean Cross-Validation Score: K3NOweighted 0.9853826728826729\n",
            "Mean Cross-Validation Score: KNOweighted 0.9846930846930848\n"
          ]
        }
      ]
    },
    {
      "cell_type": "markdown",
      "source": [
        "### Evaluate with test set"
      ],
      "metadata": {
        "id": "CSBBTr6VKFL4"
      }
    },
    {
      "cell_type": "code",
      "source": [
        "knn_distance = KNeighborsClassifier(n_neighbors=5, weights='distance')\n",
        "\n",
        "knn_distance.fit(X_train,y_train)\n",
        "\n",
        "y_pred = knn_distance.predict(X_test)"
      ],
      "metadata": {
        "id": "hKEM1ZwxKGLc"
      },
      "execution_count": 13,
      "outputs": []
    },
    {
      "cell_type": "code",
      "source": [
        "from sklearn.metrics import accuracy_score\n",
        "\n",
        "# Assume y_true and y_pred are the true and predicted labels, respectively\n",
        "accuracy = accuracy_score(y_test, y_pred)\n",
        "\n",
        "# Print the accuracy score\n",
        "print(\"Accuracy score: \", accuracy)\n"
      ],
      "metadata": {
        "id": "RyK9X7rMKRdW",
        "outputId": "6f308ff5-2c04-4b22-b843-69dde3cd64d8",
        "colab": {
          "base_uri": "https://localhost:8080/"
        }
      },
      "execution_count": 14,
      "outputs": [
        {
          "output_type": "stream",
          "name": "stdout",
          "text": [
            "Accuracy score:  0.975\n"
          ]
        }
      ]
    },
    {
      "cell_type": "markdown",
      "source": [
        "# HW 7 \n",
        "หา โมเดลที่ดีที่สุด จาก DT,NaiveBayes,KNN,ANN โดย เปรียบเทียบ อย่างละสอง parameter sets "
      ],
      "metadata": {
        "id": "CrjXS1z0KVkR"
      }
    },
    {
      "cell_type": "markdown",
      "source": [
        "## พารามิเตอร์แรก k3 without distance_weight"
      ],
      "metadata": {
        "id": "FkS-NB7Itnl0"
      }
    },
    {
      "cell_type": "markdown",
      "source": [
        "### k3 without dw Decision Tree"
      ],
      "metadata": {
        "id": "xbFCiW99ttgM"
      }
    },
    {
      "cell_type": "code",
      "source": [
        "from sklearn.datasets import load_digits\n",
        "from sklearn.tree import DecisionTreeClassifier\n",
        "from sklearn.model_selection import train_test_split\n",
        "\n",
        "# Load the digits dataset\n",
        "digits = load_digits()\n",
        "\n",
        "# Split the dataset into training and testing sets\n",
        "X_train, X_test, y_train, y_test = train_test_split(digits.data, digits.target, test_size=0.2, random_state=42)\n",
        "\n",
        "# Fit a decision tree classifier with max depth = 5\n",
        "clf = DecisionTreeClassifier(max_depth=5)\n",
        "clf.fit(X_train, y_train)\n",
        "\n",
        "# Predict the class labels of the test set\n",
        "pred = clf.predict(X_test)\n",
        "\n",
        "# Compute the accuracy of the classifier\n",
        "acc = clf.score(X_test, y_test)\n",
        "print(\"Accuracy:\", acc)"
      ],
      "metadata": {
        "id": "j3L9FGKUKYic",
        "outputId": "bb6f3181-0782-4aeb-8027-5976df3d61b7",
        "colab": {
          "base_uri": "https://localhost:8080/"
        }
      },
      "execution_count": 15,
      "outputs": [
        {
          "output_type": "stream",
          "name": "stdout",
          "text": [
            "Accuracy: 0.6638888888888889\n"
          ]
        }
      ]
    },
    {
      "cell_type": "markdown",
      "source": [
        "### k3 without dw Naive Bayes"
      ],
      "metadata": {
        "id": "g5Spg02btz68"
      }
    },
    {
      "cell_type": "code",
      "source": [
        "from sklearn.datasets import load_digits\n",
        "from sklearn.naive_bayes import GaussianNB\n",
        "from sklearn.model_selection import train_test_split\n",
        "\n",
        "# Load the digits dataset\n",
        "digits = load_digits()\n",
        "\n",
        "# Split the dataset into training and testing sets\n",
        "X_train, X_test, y_train, y_test = train_test_split(digits.data, digits.target, test_size=0.2, random_state=42)\n",
        "\n",
        "# Fit a Gaussian Naive Bayes classifier\n",
        "clf = GaussianNB()\n",
        "clf.fit(X_train, y_train)\n",
        "\n",
        "# Predict the class labels of the test set\n",
        "pred = clf.predict(X_test)\n",
        "\n",
        "# Compute the accuracy of the classifier\n",
        "acc = clf.score(X_test, y_test)\n",
        "print(\"Accuracy:\", acc)"
      ],
      "metadata": {
        "id": "l4Z9yc4lt0rM",
        "outputId": "4f528219-df09-41e0-91c6-580fcc52dfc4",
        "colab": {
          "base_uri": "https://localhost:8080/"
        }
      },
      "execution_count": 16,
      "outputs": [
        {
          "output_type": "stream",
          "name": "stdout",
          "text": [
            "Accuracy: 0.8472222222222222\n"
          ]
        }
      ]
    },
    {
      "cell_type": "markdown",
      "source": [
        "### k3 without dw KNN k neighbor nearest"
      ],
      "metadata": {
        "id": "CuNseUzIt5ry"
      }
    },
    {
      "cell_type": "code",
      "source": [
        "from sklearn.datasets import load_digits\n",
        "from sklearn.neighbors import KNeighborsClassifier\n",
        "from sklearn.model_selection import train_test_split\n",
        "\n",
        "# Load the digits dataset\n",
        "digits = load_digits()\n",
        "\n",
        "# Split the dataset into training and testing sets\n",
        "X_train, X_test, y_train, y_test = train_test_split(digits.data, digits.target, test_size=0.2, random_state=42)\n",
        "\n",
        "# Fit a k-NN classifier with k=3\n",
        "clf = KNeighborsClassifier(n_neighbors=3)\n",
        "clf.fit(X_train, y_train)\n",
        "\n",
        "# Predict the class labels of the test set\n",
        "pred = clf.predict(X_test)\n",
        "\n",
        "# Compute the accuracy of the classifier\n",
        "acc = clf.score(X_test, y_test)\n",
        "print(\"Accuracy:\", acc)"
      ],
      "metadata": {
        "id": "Uv2W1XO4t6yJ",
        "outputId": "cbba6f7e-13d1-4720-9c1c-d01862a22e89",
        "colab": {
          "base_uri": "https://localhost:8080/"
        }
      },
      "execution_count": 17,
      "outputs": [
        {
          "output_type": "stream",
          "name": "stdout",
          "text": [
            "Accuracy: 0.9833333333333333\n"
          ]
        }
      ]
    },
    {
      "cell_type": "markdown",
      "source": [
        "### k3 without dw ANN Artificial neural network"
      ],
      "metadata": {
        "id": "UWI3kV-9t9Ee"
      }
    },
    {
      "cell_type": "code",
      "source": [
        "from sklearn.datasets import load_digits\n",
        "from sklearn.model_selection import train_test_split\n",
        "from sklearn.neural_network import MLPClassifier\n",
        "\n",
        "# Load the digits dataset\n",
        "digits = load_digits()\n",
        "\n",
        "# Split the dataset into training and testing sets\n",
        "X_train, X_test, y_train, y_test = train_test_split(digits.data, digits.target, test_size=0.2, random_state=42)\n",
        "\n",
        "# Create an ANN classifier with one hidden layer of 100 neurons\n",
        "clf = MLPClassifier(hidden_layer_sizes=(100,), random_state=42)\n",
        "\n",
        "# Fit the classifier to the training data\n",
        "clf.fit(X_train, y_train)\n",
        "\n",
        "# Predict the class labels of the test set\n",
        "pred = clf.predict(X_test)\n",
        "\n",
        "# Compute the accuracy of the classifier\n",
        "acc = clf.score(X_test, y_test)\n",
        "print(\"Accuracy:\", acc)"
      ],
      "metadata": {
        "id": "Z2ovES72t_Z3",
        "outputId": "4dc49434-5108-4bca-e2ab-6e0d4a12ddb5",
        "colab": {
          "base_uri": "https://localhost:8080/"
        }
      },
      "execution_count": 18,
      "outputs": [
        {
          "output_type": "stream",
          "name": "stdout",
          "text": [
            "Accuracy: 0.9833333333333333\n"
          ]
        }
      ]
    },
    {
      "cell_type": "markdown",
      "source": [
        "## พารามิเตอร์สอง k3 with distance_weight"
      ],
      "metadata": {
        "id": "Xz0dO-qcuB1b"
      }
    },
    {
      "cell_type": "markdown",
      "source": [
        "### k3 with dw Decision Tree"
      ],
      "metadata": {
        "id": "FS1qQxCZuGxa"
      }
    },
    {
      "cell_type": "code",
      "source": [
        "from sklearn.datasets import load_digits\n",
        "from sklearn.model_selection import train_test_split\n",
        "from sklearn.neighbors import KNeighborsClassifier\n",
        "from sklearn.tree import DecisionTreeClassifier\n",
        "from sklearn.naive_bayes import GaussianNB\n",
        "from sklearn.neural_network import MLPClassifier\n",
        "\n",
        "# Load the digits dataset\n",
        "digits = load_digits()\n",
        "\n",
        "# Split the dataset into training and testing sets\n",
        "X_train, X_test, y_train, y_test = train_test_split(digits.data, digits.target, test_size=0.2, random_state=42)\n",
        " #Create a decision tree classifier\n",
        "dt = DecisionTreeClassifier(random_state=42)\n",
        "\n",
        "# Fit the classifier to the training data\n",
        "dt.fit(X_train, y_train)\n",
        "\n",
        "# Predict the class labels of the test set\n",
        "dt_pred = dt.predict(X_test)\n",
        "\n",
        "# Compute the accuracy of the decision tree classifier\n",
        "dt_acc = dt.score(X_test, y_test)\n",
        "print(\"Decision Tree Accuracy:\", dt_acc)"
      ],
      "metadata": {
        "id": "r7vuriuwuETP",
        "outputId": "9faf64f7-409f-40f5-fe62-8004d149ea17",
        "colab": {
          "base_uri": "https://localhost:8080/"
        }
      },
      "execution_count": 19,
      "outputs": [
        {
          "output_type": "stream",
          "name": "stdout",
          "text": [
            "Decision Tree Accuracy: 0.8416666666666667\n"
          ]
        }
      ]
    },
    {
      "cell_type": "markdown",
      "source": [
        "### k3 with dw Naive Bayes"
      ],
      "metadata": {
        "id": "z6qTPFjyuJyy"
      }
    },
    {
      "cell_type": "code",
      "source": [
        "# Create a Naive Bayes classifier\n",
        "nb = GaussianNB()\n",
        "\n",
        "# Fit the classifier to the training data\n",
        "nb.fit(X_train, y_train)\n",
        "\n",
        "# Predict the class labels of the test set\n",
        "nb_pred = nb.predict(X_test)\n",
        "\n",
        "# Compute the accuracy of the Naive Bayes classifier\n",
        "nb_acc = nb.score(X_test, y_test)\n",
        "print(\"Naive Bayes Accuracy:\", nb_acc)"
      ],
      "metadata": {
        "id": "II0rHUXzuL_d",
        "outputId": "a49c37cd-a9ab-4736-e9b4-fb3303064ff4",
        "colab": {
          "base_uri": "https://localhost:8080/"
        }
      },
      "execution_count": 20,
      "outputs": [
        {
          "output_type": "stream",
          "name": "stdout",
          "text": [
            "Naive Bayes Accuracy: 0.8472222222222222\n"
          ]
        }
      ]
    },
    {
      "cell_type": "markdown",
      "source": [
        "### k3 with dw KNN k neighbor nearest"
      ],
      "metadata": {
        "id": "QBiwfy9xuOTD"
      }
    },
    {
      "cell_type": "code",
      "source": [
        "# Create a k-NN classifier with k=3 and distance weighting\n",
        "knn = KNeighborsClassifier(n_neighbors=3, weights='distance')\n",
        "\n",
        "# Fit the classifier to the training data\n",
        "knn.fit(X_train, y_train)\n",
        "\n",
        "# Predict the class labels of the test set\n",
        "knn_pred = knn.predict(X_test)\n",
        "\n",
        "# Compute the accuracy of the k-NN classifier\n",
        "knn_acc = knn.score(X_test, y_test)\n",
        "print(\"k-NN Accuracy:\", knn_acc)"
      ],
      "metadata": {
        "id": "_jCAjgwYuQZV",
        "outputId": "1c36c1cd-07b0-4408-a77d-ec89254f4c45",
        "colab": {
          "base_uri": "https://localhost:8080/"
        }
      },
      "execution_count": 21,
      "outputs": [
        {
          "output_type": "stream",
          "name": "stdout",
          "text": [
            "k-NN Accuracy: 0.9833333333333333\n"
          ]
        }
      ]
    },
    {
      "cell_type": "markdown",
      "source": [
        "### k3 with dw ANN Artificial neural network"
      ],
      "metadata": {
        "id": "DwF0Tyq5uT24"
      }
    },
    {
      "cell_type": "code",
      "source": [
        "# Create an ANN classifier with one hidden layer of 100 neurons\n",
        "ann = MLPClassifier(hidden_layer_sizes=(100,), random_state=42)\n",
        "\n",
        "# Fit the classifier to the training data\n",
        "ann.fit(X_train, y_train)\n",
        "\n",
        "# Predict the class labels of the test set\n",
        "ann_pred = ann.predict(X_test)\n",
        "\n",
        "# Compute the accuracy of the ANN classifier\n",
        "ann_acc = ann.score(X_test, y_test)\n",
        "print(\"ANN Accuracy:\", ann_acc)"
      ],
      "metadata": {
        "id": "ZAy7LQyJuZJz",
        "outputId": "f7f8960b-5e1d-41da-dd3d-7eb7bebbdbbf",
        "colab": {
          "base_uri": "https://localhost:8080/"
        }
      },
      "execution_count": 22,
      "outputs": [
        {
          "output_type": "stream",
          "name": "stdout",
          "text": [
            "ANN Accuracy: 0.9833333333333333\n"
          ]
        }
      ]
    }
  ]
}