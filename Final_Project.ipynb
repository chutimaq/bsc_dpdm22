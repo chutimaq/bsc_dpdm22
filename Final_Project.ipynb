{
  "nbformat": 4,
  "nbformat_minor": 0,
  "metadata": {
    "colab": {
      "provenance": [],
      "toc_visible": true,
      "include_colab_link": true
    },
    "kernelspec": {
      "name": "python3",
      "display_name": "Python 3"
    },
    "language_info": {
      "name": "python"
    }
  },
  "cells": [
    {
      "cell_type": "markdown",
      "metadata": {
        "id": "view-in-github",
        "colab_type": "text"
      },
      "source": [
        "<a href=\"https://colab.research.google.com/github/chutimaq/bsc_dpdm22/blob/main/Final_Project.ipynb\" target=\"_parent\"><img src=\"https://colab.research.google.com/assets/colab-badge.svg\" alt=\"Open In Colab\"/></a>"
      ]
    },
    {
      "cell_type": "markdown",
      "metadata": {
        "id": "xWBgHx-C4kvm"
      },
      "source": [
        "## นำเข้าข้อมูล"
      ]
    },
    {
      "cell_type": "code",
      "source": [
        "import pandas as pd\n",
        "import os\n",
        "\n",
        "from sklearn.model_selection import train_test_split\n",
        "\n",
        "from sklearn.tree import DecisionTreeClassifier\n",
        "from sklearn.model_selection import GridSearchCV\n",
        "from sklearn.neighbors import KNeighborsClassifier\n",
        "from sklearn.naive_bayes import GaussianNB\n",
        "from sklearn.neural_network import MLPClassifier\n",
        "from sklearn.preprocessing import StandardScaler\n",
        "from sklearn.metrics import accuracy_score\n",
        "\n",
        "\n",
        "from sklearn.tree import plot_tree \n",
        "from sklearn.metrics import classification_report\n",
        "\n",
        "from sklearn.cluster import KMeans\n",
        "\n",
        "import matplotlib.pyplot as plt\n",
        "import seaborn as sns\n",
        "\n",
        "from sklearn.metrics import confusion_matrix\n",
        "from sklearn.metrics import ConfusionMatrixDisplay"
      ],
      "metadata": {
        "id": "oCimiAaZBh5M"
      },
      "execution_count": null,
      "outputs": []
    },
    {
      "cell_type": "code",
      "source": [
        "from google.colab import drive\n",
        "drive.mount('/content/drive')"
      ],
      "metadata": {
        "id": "By--KHZAZn2o"
      },
      "execution_count": null,
      "outputs": []
    },
    {
      "cell_type": "code",
      "source": [
        "train = pd.read_csv('/content/drive/MyDrive/bsc_DPDM_data/Project/train.csv')"
      ],
      "metadata": {
        "id": "UtsfRBWgapZL"
      },
      "execution_count": null,
      "outputs": []
    },
    {
      "cell_type": "code",
      "source": [
        "test = pd.read_csv('/content/drive/MyDrive/bsc_DPDM_data/Project/test.csv')"
      ],
      "metadata": {
        "id": "TVQ84monZwFo"
      },
      "execution_count": null,
      "outputs": []
    },
    {
      "cell_type": "code",
      "source": [
        "train.head(5)"
      ],
      "metadata": {
        "id": "Wle1oF62FIPz"
      },
      "execution_count": null,
      "outputs": []
    },
    {
      "cell_type": "code",
      "source": [
        "test.head(5)"
      ],
      "metadata": {
        "id": "L_uHI1PSKfHe"
      },
      "execution_count": null,
      "outputs": []
    },
    {
      "cell_type": "markdown",
      "source": [
        "#Data preparation"
      ],
      "metadata": {
        "id": "mBgBRRtFO8df"
      }
    },
    {
      "cell_type": "code",
      "source": [
        "train.describe()"
      ],
      "metadata": {
        "id": "uYTtSvopOD0j"
      },
      "execution_count": null,
      "outputs": []
    },
    {
      "cell_type": "code",
      "source": [
        "train[['m_dep','px_height','sc_w']].describe()"
      ],
      "metadata": {
        "id": "qFm7yiZjxzZ5"
      },
      "execution_count": null,
      "outputs": []
    },
    {
      "cell_type": "markdown",
      "source": [
        "ไฟล์ train มี features m_dep, px height และ sc_w ที่มีค่า min ไม่สมเหตุสมผล \n",
        "\n",
        "min -> m_dep = 0.10,px height = 0 และ sc_w = 0"
      ],
      "metadata": {
        "id": "MFgki9QWPnQv"
      }
    },
    {
      "cell_type": "code",
      "source": [
        "test.describe()"
      ],
      "metadata": {
        "id": "oNTFVwzdROPr"
      },
      "execution_count": null,
      "outputs": []
    },
    {
      "cell_type": "markdown",
      "source": [
        "ไฟล์ test มี features m_dep, px height และ sc_w ที่มีค่า min ไม่สมเหตุสมผล \n",
        "\n",
        "min -> m_dep = 0.10,px height = 0 และ sc_w = 0"
      ],
      "metadata": {
        "id": "YT_2luodRtdH"
      }
    },
    {
      "cell_type": "code",
      "source": [
        "test[['m_dep','px_height','sc_w']].describe()"
      ],
      "metadata": {
        "id": "p9WcdOQ2zlNS"
      },
      "execution_count": null,
      "outputs": []
    },
    {
      "cell_type": "markdown",
      "source": [
        "## Data Cleaning\n",
        "\n",
        "\n",
        "*   ปรับค่า min ใหม่\n",
        "*   Check Missing Values\n",
        "\n"
      ],
      "metadata": {
        "id": "tRcNUy3NN-gl"
      }
    },
    {
      "cell_type": "markdown",
      "source": [
        "### ปรับค่า min ใหม่"
      ],
      "metadata": {
        "id": "LdV3GkzCarAs"
      }
    },
    {
      "cell_type": "markdown",
      "source": [
        "กำหนดขั้นต่ำของความลึก (m_dep) คือ 0.5 เซนติเมตร"
      ],
      "metadata": {
        "id": "7pKL4orNT5-P"
      }
    },
    {
      "cell_type": "code",
      "source": [
        "#train\n",
        "below_threshold = train['m_dep'][train['m_dep'] < 0.5] #หา m_dep ที่น้อยกว่า 0.5\n",
        "len(below_threshold)"
      ],
      "metadata": {
        "id": "WTANvYMnSRFR"
      },
      "execution_count": null,
      "outputs": []
    },
    {
      "cell_type": "code",
      "source": [
        "#Replace values below 0.5 cm with 0.5 cm\n",
        "train['m_dep'][train['m_dep'] < 0.5] = 0.5"
      ],
      "metadata": {
        "id": "qr8cmK4ZSkT9"
      },
      "execution_count": null,
      "outputs": []
    },
    {
      "cell_type": "code",
      "source": [
        "#test\n",
        "below_threshold1 = test['m_dep'][test['m_dep'] < 0.5] \n",
        "len(below_threshold1)"
      ],
      "metadata": {
        "id": "PoGh6pzCTNKr"
      },
      "execution_count": null,
      "outputs": []
    },
    {
      "cell_type": "code",
      "source": [
        "# Replace values below 0.5 cm with 0.5 cm\n",
        "test['m_dep'][test['m_dep'] < 0.5] = 0.5"
      ],
      "metadata": {
        "id": "_T4DcFI_TzRT"
      },
      "execution_count": null,
      "outputs": []
    },
    {
      "cell_type": "markdown",
      "source": [
        "กำหนดขั้นต่ำความละเอียดพิกเซล (px_height) คือ 65 พิกเซล\n",
        "\n"
      ],
      "metadata": {
        "id": "_u5BqfqcVEYB"
      }
    },
    {
      "cell_type": "code",
      "source": [
        "#train\n",
        "below_threshold2 = train['px_height'][train['px_height'] < 65] #หา px_height ที่น้อยกว่า 0.5\n",
        "len(below_threshold2)"
      ],
      "metadata": {
        "id": "W66TOlrvVDn1"
      },
      "execution_count": null,
      "outputs": []
    },
    {
      "cell_type": "code",
      "source": [
        "# Replace values below 65 pixels with 65 pixels\n",
        "train['px_height'][train['px_height'] < 65] = 65"
      ],
      "metadata": {
        "id": "2SCnbywSWFb5"
      },
      "execution_count": null,
      "outputs": []
    },
    {
      "cell_type": "code",
      "source": [
        "#test\n",
        "below_threshold3 = test['px_height'][test['px_height'] < 65]\n",
        "len(below_threshold3)"
      ],
      "metadata": {
        "id": "rteZ7keAWhDA"
      },
      "execution_count": null,
      "outputs": []
    },
    {
      "cell_type": "code",
      "source": [
        "# Replace values below 65 pixels with 65 pixels\n",
        "test['px_height'][test['px_height'] < 65] = 65"
      ],
      "metadata": {
        "id": "WYEkbVzfWxlk"
      },
      "execution_count": null,
      "outputs": []
    },
    {
      "cell_type": "markdown",
      "source": [
        "กำหนดขั้นต่ำของความกว้างหน้าจอ (sc_w) คือ 1 นิ้ว = 2.54 เซนติเมตร"
      ],
      "metadata": {
        "id": "oJltMy8QW8j_"
      }
    },
    {
      "cell_type": "code",
      "source": [
        "#train\n",
        "below_threshold4 = train['sc_w'][train['sc_w'] < 2.54]\n",
        "len(below_threshold4)"
      ],
      "metadata": {
        "id": "9pz1na-tXOLN"
      },
      "execution_count": null,
      "outputs": []
    },
    {
      "cell_type": "code",
      "source": [
        "# Replace values below 2.54 cm with 2.54 cm\n",
        "train['sc_w'][train['sc_w'] < 2.54] = 2.54"
      ],
      "metadata": {
        "id": "i3VzxbXwXOLO"
      },
      "execution_count": null,
      "outputs": []
    },
    {
      "cell_type": "code",
      "source": [
        "#test\n",
        "below_threshold5 = test['sc_w'][test['sc_w'] < 2.54]\n",
        "len(below_threshold5)"
      ],
      "metadata": {
        "id": "Mlz0IK4YXOLO"
      },
      "execution_count": null,
      "outputs": []
    },
    {
      "cell_type": "code",
      "source": [
        "# Replace values below 2.54 cm with 2.54 cm\n",
        "test['sc_w'][test['sc_w'] < 2.54] = 2.54"
      ],
      "metadata": {
        "id": "1MRBib6WXOLO"
      },
      "execution_count": null,
      "outputs": []
    },
    {
      "cell_type": "code",
      "source": [
        "train[['m_dep','px_height','sc_w']].describe()"
      ],
      "metadata": {
        "id": "OakhxFEozzRd"
      },
      "execution_count": null,
      "outputs": []
    },
    {
      "cell_type": "code",
      "source": [
        "test[['m_dep','px_height','sc_w']].describe()"
      ],
      "metadata": {
        "id": "zuw_E4YBJAbD"
      },
      "execution_count": null,
      "outputs": []
    },
    {
      "cell_type": "markdown",
      "source": [
        "### check missing"
      ],
      "metadata": {
        "id": "F2e4g6laLygi"
      }
    },
    {
      "cell_type": "code",
      "source": [
        "train.isnull().sum()"
      ],
      "metadata": {
        "id": "UJh2neD7L1sk"
      },
      "execution_count": null,
      "outputs": []
    },
    {
      "cell_type": "code",
      "source": [
        "test.isnull().sum()"
      ],
      "metadata": {
        "id": "fW_g3YITMAx3"
      },
      "execution_count": null,
      "outputs": []
    },
    {
      "cell_type": "markdown",
      "source": [
        "ไม่พบ missing"
      ],
      "metadata": {
        "id": "zdLzrgQZbpF2"
      }
    },
    {
      "cell_type": "markdown",
      "source": [
        "## Correlation Analysis"
      ],
      "metadata": {
        "id": "bCrdTHa-cUHq"
      }
    },
    {
      "cell_type": "code",
      "source": [
        "plt.figure(figsize=(20,15))\n",
        "sns.heatmap(train.corr(), annot=True, cmap='Blues')\n",
        "plt.title('Correlation Between The Features')\n",
        "plt.show()"
      ],
      "metadata": {
        "id": "EsqudkrYcYsc"
      },
      "execution_count": null,
      "outputs": []
    },
    {
      "cell_type": "markdown",
      "source": [
        "จาก heatmap จะพบว่า\n",
        "*   หน่วยความจำ และ ช่วงราคา มีความสัมพันธ์กันอย่างมาก \n",
        "*   หน่วยความจำ, แบตเตอรี่, ความกว้างความละเอียดของภาพ และ ความสูงของความละเอียดของภาพ มีความสัมพันธ์กับช่วงราคา\n",
        "*   4G และ 3G, กล้องหน้า และ กล้องหลัก, ความกว้างความละเอียดของภาพ และ ความสูงของความละเอียดของภาพ และ ความสูงหน้าจอมือถือ และ ความกว้างหน้าจอมือถือ มีความสัมพันธ์ในระดับปานกลาง\n",
        "\n"
      ],
      "metadata": {
        "id": "Pn3H9pdEcmJ4"
      }
    },
    {
      "cell_type": "markdown",
      "source": [
        "# **classification**\n",
        "การคาดการณ์ช่วงราคาของโทรศัพท์มือถือโดยการสร้างแบบจำลองที่คำนึงถึงคุณลักษณะต่างๆ \n",
        "ที่มีอยู่ในชุดข้อมูล เราจะใช้วิธี Decision Tree, K-Nearest Neighbors\n",
        "และ Naive Bayes "
      ],
      "metadata": {
        "id": "adO9zPdsL0fW"
      }
    },
    {
      "cell_type": "code",
      "source": [
        "x = train.drop('price_range', axis=1) # drop column 'price_range' ให้เหลือแค่ Feature\n",
        "y = train['price_range'].values.reshape(-1, 1) #Target : price_range"
      ],
      "metadata": {
        "id": "YYLzV6EXgTsJ"
      },
      "execution_count": null,
      "outputs": []
    },
    {
      "cell_type": "code",
      "source": [
        "# แบ่งข้อมูลออกเป็น train 80% test 20% \n",
        "X_train, X_test, y_train, y_test = train_test_split(x,y,test_size=0.2,random_state=2) # random_state ทำให้การสุ่มแต่ละครั้งมีผลการสุ่มเหมือนเดิม"
      ],
      "metadata": {
        "id": "ck_n5QlvvaGi"
      },
      "execution_count": null,
      "outputs": []
    },
    {
      "cell_type": "markdown",
      "source": [
        "## DecisionTree"
      ],
      "metadata": {
        "id": "yimz6bSb2nv3"
      }
    },
    {
      "cell_type": "code",
      "source": [
        "#  gridsearch หาพารามิเตอร์ที่ดีที่สุด\n",
        "clf_dt = DecisionTreeClassifier()\n",
        "\n",
        "max_depth = range(3, 21)\n",
        "criterion = ['entropy', 'gini']\n",
        "random_state = range(1, 8)\n",
        "\n",
        "parameters = {'max_depth': max_depth, 'criterion': criterion, 'random_state': random_state}\n",
        "\n",
        "gridsearch = GridSearchCV(estimator=clf_dt,\n",
        "                          param_grid=parameters,\n",
        "                          scoring='accuracy',\n",
        "                          cv=10,\n",
        "                          verbose=1,\n",
        "                          n_jobs=-1)\n",
        "\n",
        "gridsearch.fit(X_train, y_train)\n",
        "\n",
        "print('Best parameters:', gridsearch.best_params_)"
      ],
      "metadata": {
        "id": "U-5qqH2OutQN"
      },
      "execution_count": null,
      "outputs": []
    },
    {
      "cell_type": "code",
      "source": [
        "# Define the decision tree model\n",
        "clf = DecisionTreeClassifier(criterion = 'entropy', max_depth=7, random_state=2,)\n",
        "# Fit the model to the training set\n",
        "clf.fit(X_train, y_train)\n",
        "#predict\n",
        "y_pred = clf.predict(X_test)\n",
        "# Calculate the accuracy of the model\n",
        "acc_dt = accuracy_score(y_test, y_pred)\n",
        "print(f'Decision Tree accuracy score: {acc_dt:.4f}');"
      ],
      "metadata": {
        "id": "M7_y5csYvW8F"
      },
      "execution_count": null,
      "outputs": []
    },
    {
      "cell_type": "code",
      "source": [
        "feature_names = x.columns\n",
        "target_names = ['low cost', 'medium cost', 'high cost', 'very high cost']\n",
        "\n",
        "fig = plt.figure(figsize = (30, 15))\n",
        "Plot = plot_tree(clf, feature_names = feature_names, class_names = target_names, filled = True)"
      ],
      "metadata": {
        "id": "FNaNEtUWc9Wo"
      },
      "execution_count": null,
      "outputs": []
    },
    {
      "cell_type": "markdown",
      "source": [
        "### Evaluation"
      ],
      "metadata": {
        "id": "h1kM0Gx5th8s"
      }
    },
    {
      "cell_type": "code",
      "source": [
        "print(classification_report(y_test, y_pred))"
      ],
      "metadata": {
        "id": "NGPYM1WMsJRW"
      },
      "execution_count": null,
      "outputs": []
    },
    {
      "cell_type": "markdown",
      "source": [
        "###Confusion Matrix"
      ],
      "metadata": {
        "id": "0rHLckXizeG6"
      }
    },
    {
      "cell_type": "code",
      "source": [
        "cm = confusion_matrix(y_test, y_pred)\n",
        "\n",
        "disp = ConfusionMatrixDisplay(confusion_matrix=cm)\n",
        "disp.plot(cmap=plt.cm.Blues)\n",
        "plt.show()"
      ],
      "metadata": {
        "id": "qpfFJeZf58Yr"
      },
      "execution_count": null,
      "outputs": []
    },
    {
      "cell_type": "markdown",
      "source": [
        "## K-Nearest Neighbors"
      ],
      "metadata": {
        "id": "weHRcNk22sxh"
      }
    },
    {
      "cell_type": "markdown",
      "source": [
        "หา parameters ที่ดีที่สุด (K (1,3,5))"
      ],
      "metadata": {
        "id": "gRAdLJtROywD"
      }
    },
    {
      "cell_type": "code",
      "source": [
        "# Define the hyperparameters to tune\n",
        "param_grid = {'n_neighbors': [1, 3, 5]}\n",
        "\n",
        "# Define the classifier\n",
        "knn = KNeighborsClassifier()\n",
        "\n",
        "# Perform grid search\n",
        "grid_search = GridSearchCV(knn, param_grid=param_grid, cv=5, n_jobs=-1)\n",
        "grid_search.fit(X_train, y_train)\n",
        "\n",
        "# Print the best parameters\n",
        "print('Best parameters:', grid_search.best_params_)"
      ],
      "metadata": {
        "id": "yESJl9PTQPMP"
      },
      "execution_count": null,
      "outputs": []
    },
    {
      "cell_type": "code",
      "source": [
        "# Instantiate the model\n",
        "knn = KNeighborsClassifier(n_neighbors=5)\n",
        "\n",
        "# Fit the model to the training set\n",
        "knn.fit(X_train,y_train)\n",
        "\n",
        "#predict\n",
        "y_pred = knn.predict(X_test)\n",
        "\n",
        "# Calculate the accuracy of the model\n",
        "acc_knn = accuracy_score(y_test, y_pred)\n",
        "print(f'KNN accuracy score: {acc_knn:.4f}');"
      ],
      "metadata": {
        "id": "h3pB3NgHd7cf"
      },
      "execution_count": null,
      "outputs": []
    },
    {
      "cell_type": "markdown",
      "source": [
        "### Evaluation"
      ],
      "metadata": {
        "id": "AW4WnwoK7g3W"
      }
    },
    {
      "cell_type": "code",
      "source": [
        "print(classification_report(y_test, y_pred))"
      ],
      "metadata": {
        "id": "692C93pL7g3W"
      },
      "execution_count": null,
      "outputs": []
    },
    {
      "cell_type": "markdown",
      "source": [
        "###Confusion Matrix"
      ],
      "metadata": {
        "id": "daBzWD1o7g3X"
      }
    },
    {
      "cell_type": "code",
      "source": [
        "cm = confusion_matrix(y_test, y_pred)\n",
        "\n",
        "disp = ConfusionMatrixDisplay(confusion_matrix=cm)\n",
        "disp.plot(cmap=plt.cm.Blues)\n",
        "plt.show()"
      ],
      "metadata": {
        "id": "vUoGkpkr7g3X"
      },
      "execution_count": null,
      "outputs": []
    },
    {
      "cell_type": "markdown",
      "source": [
        "## Naive Bayes"
      ],
      "metadata": {
        "id": "NSBuGr_O2-z8"
      }
    },
    {
      "cell_type": "code",
      "source": [
        "# Naive Bayes \n",
        "# Instantiate the model\n",
        "nb = GaussianNB()\n",
        "\n",
        "# Fit the model to the training set\n",
        "nb.fit(X_train, y_train)\n",
        "\n",
        "# Make predictions on the validation set\n",
        "y_pred = nb.predict(X_test)\n",
        "\n",
        "# Evaluate the performance of the model\n",
        "acc_nb = accuracy_score(y_test, y_pred)\n",
        "print(f'Naive Bayes accuracy score: {acc_nb:.4f}');"
      ],
      "metadata": {
        "id": "d1Y4buIe2_Hn"
      },
      "execution_count": null,
      "outputs": []
    },
    {
      "cell_type": "markdown",
      "source": [
        "### Evaluation"
      ],
      "metadata": {
        "id": "7b6ukw817jEc"
      }
    },
    {
      "cell_type": "code",
      "source": [
        "print(classification_report(y_test, y_pred))"
      ],
      "metadata": {
        "id": "jgwCAksS7jEc"
      },
      "execution_count": null,
      "outputs": []
    },
    {
      "cell_type": "markdown",
      "source": [
        "###Confusion Matrix"
      ],
      "metadata": {
        "id": "aiMYvsGD7jEd"
      }
    },
    {
      "cell_type": "code",
      "source": [
        "cm = confusion_matrix(y_test, y_pred)\n",
        "\n",
        "disp = ConfusionMatrixDisplay(confusion_matrix=cm)\n",
        "disp.plot(cmap=plt.cm.Blues)\n",
        "plt.show()"
      ],
      "metadata": {
        "id": "U6T9p8EC7jEd"
      },
      "execution_count": null,
      "outputs": []
    },
    {
      "cell_type": "markdown",
      "source": [
        "เปรียบเทียบค่า accuracy score ของแต่ละ model"
      ],
      "metadata": {
        "id": "nwpTx0rhk1r7"
      }
    },
    {
      "cell_type": "code",
      "source": [
        "print(f'Decision Tree accuracy score: {acc_dt:.4f}');\n",
        "print(f'KNN accuracy score: {acc_knn:.4f}');\n",
        "print(f'Naive Bayes accuracy score: {acc_nb:.4f}');"
      ],
      "metadata": {
        "id": "lfZCeNqpAkId"
      },
      "execution_count": null,
      "outputs": []
    },
    {
      "cell_type": "markdown",
      "source": [
        "##Model Evaluation"
      ],
      "metadata": {
        "id": "2UucQRUKfQOY"
      }
    },
    {
      "cell_type": "markdown",
      "source": [
        "จากการเปรียบเทียบค่า accuracy score Model KNN สามารถคาดการณ์ได้แม่นยำที่สุด เพราะมีค่า accuracy score สูงที่สุด"
      ],
      "metadata": {
        "id": "W7PmZG1ugmpZ"
      }
    },
    {
      "cell_type": "markdown",
      "source": [
        "## Predicting Values for test.csv\n",
        "จากที่ KNN ได้ accuracy score สูงที่สุด จึงนำ model KNN มาคาดการณ์ช่วงราคาสำหรับโทรศัพท์มือถือเครื่องใหม่ในไฟล์ test"
      ],
      "metadata": {
        "id": "pIThVbyqeWY3"
      }
    },
    {
      "cell_type": "code",
      "source": [
        "test_dt = test.drop('id',axis=1)\n",
        "test_dt.shape"
      ],
      "metadata": {
        "id": "809FmTH0eyxo"
      },
      "execution_count": null,
      "outputs": []
    },
    {
      "cell_type": "code",
      "source": [
        "test_pred = knn.predict(test_dt)"
      ],
      "metadata": {
        "id": "9JrrZtR7e9qd"
      },
      "execution_count": null,
      "outputs": []
    },
    {
      "cell_type": "code",
      "source": [
        "test_dt['predicted_price'] = test_pred"
      ],
      "metadata": {
        "id": "ZE_YwId2flTU"
      },
      "execution_count": null,
      "outputs": []
    },
    {
      "cell_type": "code",
      "source": [
        "test_dt['predicted_price'].replace({0: 'low cost',1: 'medium cost', 2: 'high cost', 3:'very high cost'}, inplace=True)"
      ],
      "metadata": {
        "id": "wUGbk2UnhkkJ"
      },
      "execution_count": null,
      "outputs": []
    },
    {
      "cell_type": "code",
      "source": [
        "test_dt"
      ],
      "metadata": {
        "id": "d_bNWnGFiEhT"
      },
      "execution_count": null,
      "outputs": []
    },
    {
      "cell_type": "markdown",
      "source": [
        "# **K - means cluttering**\n",
        "Clustering การจัดกลุ่มจะแตกต่างจากการแบ่งประเภทข้อมูล\n",
        "(Classification) โดยจะแบ่งกลุ่มข้อมูลจากความคล้าย โดยไม่มีการกำหนดคลาสประเภทข้อมูลไว้ก่อนหรือไม่ทราบจำนวน\n",
        "กลุ่มล่วงหน้า เป็นการเรียนรู้แบบไม่มีผู้สอน (unsupervised\n",
        "classification) \n",
        "\n",
        "ต้องเป็นตัวแปรเชิงปริมาณ (Quantitative)\n",
        "  - สเกลอันตรภาค (Interval Scale)\n",
        "  - สเกลอัตราส่วน (Ratio Scale"
      ],
      "metadata": {
        "id": "ZqdsUHsQw49M"
      }
    },
    {
      "cell_type": "code",
      "source": [
        "dt_test = pd.read_csv('/content/drive/MyDrive/bsc_DPDM_data/Project/test.csv')"
      ],
      "metadata": {
        "id": "1patVpDZlRoa"
      },
      "execution_count": null,
      "outputs": []
    },
    {
      "cell_type": "code",
      "source": [
        "dt_train = pd.read_csv('/content/drive/MyDrive/bsc_DPDM_data/Project/train.csv')"
      ],
      "metadata": {
        "id": "eC5hZoIOlRoa"
      },
      "execution_count": null,
      "outputs": []
    },
    {
      "cell_type": "code",
      "source": [
        "# drop price ออก\n",
        "#kmeandata=df.drop('price_range',axis=1) ไม่ใช้\n",
        "#kmeandata =train ไม่ใช้ \n",
        "\n",
        "kmeandata=pd.concat([dt_test,dt_train]) #เพื่อแบ่งเท่าๆกัน ใช้train set , test set 3000 rows\n",
        "kmeandata =kmeandata.drop('price_range',axis=1) #drop price_range ที่ train,test มีไม่เหมือนกัน "
      ],
      "metadata": {
        "id": "kXR56nvyw88q"
      },
      "execution_count": null,
      "outputs": []
    },
    {
      "cell_type": "code",
      "source": [
        "kmeandata #data ที่ใช้ในการทำ k Mean clusttering"
      ],
      "metadata": {
        "id": "XrqMolT1xTqO"
      },
      "execution_count": null,
      "outputs": []
    },
    {
      "cell_type": "code",
      "source": [
        "kmeandata.columns"
      ],
      "metadata": {
        "id": "wwDYdb1SyWZK"
      },
      "execution_count": null,
      "outputs": []
    },
    {
      "cell_type": "markdown",
      "source": [
        "select columns to group >> 'battery_power', 'px_height'"
      ],
      "metadata": {
        "id": "zUOvE3y6ybZA"
      }
    },
    {
      "cell_type": "code",
      "source": [
        "import pandas as pd\n",
        "import numpy as np\n",
        "import matplotlib.pyplot as plt\n",
        "from sklearn.cluster import KMeans\n",
        "\n",
        "# Load data into a DataFrame\n",
        "df = kmeandata\n",
        "\n",
        "# Extract features to cluster on\n",
        "X = df[['battery_power', 'px_height']].values \n",
        "#เพื่อจัดกลุ่ม ว่าจะตั้งราคาโดยจัดกลุ่มตาม ความจุแบตและ พิกเซล ของควาทมสูงจอ?\n",
        "\n",
        "# Choose number of clusters\n",
        "k = 6\n",
        "\n",
        "# Run K-means clustering\n",
        "kmeans = KMeans(n_clusters=k, random_state=42).fit(X)\n",
        "\n",
        "# Get cluster assignments and centroids\n",
        "labels = kmeans.labels_\n",
        "centroids = kmeans.cluster_centers_\n",
        "\n",
        "# Visualize clusters\n",
        "colors = ['skyblue', 'pink', 'lightpink', 'wheat', 'lavender', 'hotpink'] # Add more colors if needed\n",
        "for i in range(k):\n",
        "    plt.scatter(X[labels == i, 0], X[labels == i, 1], s=70, c=colors[i], label=f'Cluster {i+1}')\n",
        "plt.scatter(centroids[:, 0], centroids[:,1], s=200, marker='o', c='black', label='Centroids')\n",
        "plt.xlabel('battery power') #Total energy a battery can store in one time measured in mAh\n",
        "plt.ylabel('Pixel Resolution Height') \n",
        "plt.show()"
      ],
      "metadata": {
        "id": "BoqEsEF4xlB5"
      },
      "execution_count": null,
      "outputs": []
    },
    {
      "cell_type": "code",
      "source": [
        "import pandas as pd\n",
        "import numpy as np\n",
        "import matplotlib.pyplot as plt\n",
        "from sklearn.cluster import KMeans\n",
        "\n",
        "# Load data into a DataFrame\n",
        "df = kmeandata\n",
        "\n",
        "# Extract features to cluster on\n",
        "X = df[['battery_power', 'pc']].values\n",
        "\n",
        "# Choose number of clusters\n",
        "k = 6\n",
        "\n",
        "# Run K-means clustering\n",
        "kmeans = KMeans(n_clusters=k, random_state=42).fit(X)\n",
        "\n",
        "# Get cluster assignments and centroids\n",
        "labels = kmeans.labels_\n",
        "centroids = kmeans.cluster_centers_\n",
        "\n",
        "# Visualize clusters\n",
        "colors = ['skyblue', 'pink', 'lightpink', 'wheat', 'lavender', 'hotpink'] # Add more colors if needed\n",
        "for i in range(k):\n",
        "    plt.scatter(X[labels == i, 0], X[labels == i, 1], s=70, c=colors[i], label=f'Cluster {i+1}')\n",
        "plt.scatter(centroids[:, 0], centroids[:,1], s=200, marker='o', c='black', label='Centroids')\n",
        "plt.xlabel('battery power') #Total energy a battery can store in one time measured in mAh\n",
        "plt.ylabel('Pixel Resolution Height') \n",
        "plt.show()"
      ],
      "metadata": {
        "id": "ykv97DxmzJ0G"
      },
      "execution_count": null,
      "outputs": []
    },
    {
      "cell_type": "markdown",
      "source": [
        "การจัดกลุ่มโทรศัพท์มือถือที่คล้ายกันเข้าด้วยกันตามคุณสมบัติ"
      ],
      "metadata": {
        "id": "_d8FSq1zhjnW"
      }
    },
    {
      "cell_type": "code",
      "source": [
        "import pandas as pd\n",
        "import numpy as np\n",
        "from sklearn.cluster import KMeans\n",
        "from sklearn.preprocessing import StandardScaler\n",
        "from sklearn.manifold import TSNE\n",
        "import matplotlib.pyplot as plt\n",
        "import seaborn as sns\n",
        "\n",
        "# Load the data\n",
        "train_data = pd.read_csv('/content/drive/MyDrive/bsc_DPDM_data/Project/train.csv')\n",
        "# Preprocess the data\n",
        "X = train_data.drop(['price_range'], axis=1)\n",
        "scaler = StandardScaler()\n",
        "X_scaled = scaler.fit_transform(X)\n",
        "\n",
        "# Perform k-means clustering\n",
        "kmeans = KMeans(n_clusters=4, random_state=42)\n",
        "kmeans.fit(X_scaled)\n",
        "\n",
        "# Print the cluster labels\n",
        "print(kmeans.labels_)\n",
        "\n",
        "# Apply t-SNE for visualization\n",
        "tsne = TSNE(n_components=2, perplexity=30, random_state=42)\n",
        "X_tsne = tsne.fit_transform(X_scaled)\n",
        "\n",
        "# Create scatter plot of t-SNE visualization with cluster labels\n",
        "plt.figure(figsize=(10, 8))\n",
        "sns.scatterplot(x=X_tsne[:,0], y=X_tsne[:,1], hue=kmeans.labels_, palette='viridis')\n",
        "plt.title('K-means clustering with t-SNE visualization')\n",
        "plt.show()"
      ],
      "metadata": {
        "id": "HO0RGGQwhkE-"
      },
      "execution_count": null,
      "outputs": []
    },
    {
      "cell_type": "markdown",
      "source": [
        "# **Association rule**\n",
        "Association rule มักจะใช้หารูปแบบในผลิตภัณฑ์ที่ลูกค้ามักจะซื้อร่วมกัน อาจใช้ไม่ได้โดยตรงกับปัญหาการจัดประเภทราคามือถือ เราเลยนำ Association rule มาสำรวจความสัมพันธ์ระหว่างคุณลักษณะต่างๆ แทน "
      ],
      "metadata": {
        "id": "ZIAa1ns76GND"
      }
    },
    {
      "cell_type": "code",
      "source": [
        "from mlxtend.frequent_patterns import apriori\n",
        "from mlxtend.frequent_patterns import association_rules\n",
        "\n",
        "# Load the data\n",
        "train_data = pd.read_csv('/content/drive/MyDrive/bsc_DPDM_data/Project/train.csv')\n",
        "\n",
        "# Preprocess the data\n",
        "X = train_data.drop('price_range', axis=1)\n",
        "X = pd.get_dummies(X, columns=['battery_power', 'blue', 'clock_speed', 'dual_sim', 'fc', 'four_g', 'int_memory', 'm_dep', 'mobile_wt', 'n_cores', 'pc', 'px_height', 'px_width', 'ram', 'sc_h', 'sc_w', 'talk_time', 'three_g', 'touch_screen', 'wifi'], drop_first=True)\n",
        "\n",
        "# Convert the data to a binary matrix\n",
        "X = (X > 0).astype(int)\n",
        "\n",
        "# Use Apriori to find frequent itemsets\n",
        "frequent_itemsets = apriori(X, min_support=0.1, use_colnames=True)\n",
        "\n",
        "# Use Association Rules to find interesting associations\n",
        "rules = association_rules(frequent_itemsets, metric=\"lift\", min_threshold=1)\n",
        "\n",
        "# Print the top 10 rules sorted by lift\n",
        "print(rules.sort_values('lift', ascending=False).head(10))"
      ],
      "metadata": {
        "id": "s_2VFjhkKPai"
      },
      "execution_count": null,
      "outputs": []
    },
    {
      "cell_type": "code",
      "source": [
        "rules.sort_values('lift', ascending=False).head(10)"
      ],
      "metadata": {
        "id": "JhFIpw75OXnM"
      },
      "execution_count": null,
      "outputs": []
    },
    {
      "cell_type": "markdown",
      "source": [
        "ตัวอย่าง ถ้าในโทรศัพท์มือมีฟีเจอร์ รองรับ dual_sim, มี 3G และ มีบลูทูธ \n",
        "จะมีฟีเจอร์ 4G ด้วย"
      ],
      "metadata": {
        "id": "XS0Q3Hejdf3Z"
      }
    },
    {
      "cell_type": "markdown",
      "source": [
        "#PPT presentation\n",
        "\n",
        "* https://www.canva.com/design/DAFeM3RNkWQ/-mOY5_GGzoae5fT1Hce3hw/view?utm_content=DAFeM3RNkWQ&utm_campaign=designshare&utm_medium=link&utm_source=publishsharelink"
      ],
      "metadata": {
        "id": "Q0Y9LCeRMJxD"
      }
    }
  ]
}